{
  "nbformat": 4,
  "nbformat_minor": 0,
  "metadata": {
    "colab": {
      "provenance": []
    },
    "kernelspec": {
      "name": "python3",
      "display_name": "Python 3"
    },
    "language_info": {
      "name": "python"
    }
  },
  "cells": [
    {
      "cell_type": "markdown",
      "source": [
        "Importing Libraries"
      ],
      "metadata": {
        "id": "V4Mes91bhBho"
      }
    },
    {
      "cell_type": "code",
      "execution_count": null,
      "metadata": {
        "id": "27ycj-Wgz3kR"
      },
      "outputs": [],
      "source": [
        "import numpy as np\n",
        "import pandas as pd\n",
        "import matplotlib.pyplot as plt\n",
        "import os\n",
        "import cv2\n",
        "from sklearn.model_selection import train_test_split\n",
        "from sklearn.svm import SVC\n",
        "from sklearn.metrics import accuracy_score, classification_report, confusion_matrix\n",
        "from tqdm import tqdm\n",
        "\n",
        "from IPython import get_ipython\n",
        "from IPython.display import display"
      ]
    },
    {
      "cell_type": "markdown",
      "source": [
        "Importing Images"
      ],
      "metadata": {
        "id": "JupO9wckipEw"
      }
    },
    {
      "cell_type": "code",
      "source": [
        "image_labels = [\n",
        "    0, # Label for /content/1.jpg\n",
        "    1, # Label for /content/10.jpg\n",
        "    2, # Label for /content/100.jpg\n",
        "    0, # Label for /content/10001.jpg (example, change as needed)\n",
        "    1, # Label for /content/10003.jpg (example, change as needed)\n",
        "    2, # Label for /content/10006.jpg (example, change as needed)\n",
        "    0  # Label for /content/10022.jpg (example, change as needed)\n",
        "]\n",
        "\n",
        "IMG_SIZE = 64\n",
        "data = []\n",
        "labels = []\n",
        "\n",
        "for i, img_path in enumerate(tqdm(image_paths)):\n",
        "    try:\n",
        "        img_array = cv2.imread(img_path, cv2.IMREAD_GRAYSCALE)\n",
        "        if img_array is not None:\n",
        "            resized = cv2.resize(img_array, (IMG_SIZE, IMG_SIZE))\n",
        "            data.append(resized.flatten())\n",
        "            labels.append(image_labels[i])\n",
        "\n",
        "    except Exception as e:\n",
        "        print(f\"Error loading image {img_path}: {e}\")\n",
        "        pass\n",
        "\n",
        "data = np.array(data)\n",
        "labels = np.array(labels)\n",
        "\n",
        "print(\"Image loading complete.\")\n",
        "print(f\"Number of images loaded: {len(data)}\")\n",
        "print(f\"Number of labels loaded: {len(labels)}\")"
      ],
      "metadata": {
        "colab": {
          "base_uri": "https://localhost:8080/"
        },
        "id": "lce6mU52hQdg",
        "outputId": "34774984-272a-4a53-956f-43d3972396e0"
      },
      "execution_count": null,
      "outputs": [
        {
          "output_type": "stream",
          "name": "stderr",
          "text": [
            "100%|██████████| 7/7 [00:00<00:00, 815.13it/s]"
          ]
        },
        {
          "output_type": "stream",
          "name": "stdout",
          "text": [
            "Image loading complete.\n",
            "Number of images loaded: 7\n",
            "Number of labels loaded: 7\n"
          ]
        },
        {
          "output_type": "stream",
          "name": "stderr",
          "text": [
            "\n"
          ]
        }
      ]
    },
    {
      "cell_type": "code",
      "source": [
        "data = np.array(data)\n",
        "labels = np.array(labels)"
      ],
      "metadata": {
        "id": "iUXlZ-EVjM9W"
      },
      "execution_count": null,
      "outputs": []
    },
    {
      "cell_type": "markdown",
      "source": [
        "Training & Testing data"
      ],
      "metadata": {
        "id": "IoF2bUxcj-A1"
      }
    },
    {
      "cell_type": "code",
      "source": [
        "X = data\n",
        "y = labels\n",
        "X_train, X_test, y_train, y_test = train_test_split(X, y, test_size=0.2, random_state=42)"
      ],
      "metadata": {
        "id": "DZOPfDuNkDSk"
      },
      "execution_count": null,
      "outputs": []
    },
    {
      "cell_type": "code",
      "source": [
        "print(\"Data splitting complete.\")\n",
        "print(f\"Training set size: {len(X_train)} samples\")\n",
        "print(f\"Testing set size: {len(X_test)} samples\")"
      ],
      "metadata": {
        "colab": {
          "base_uri": "https://localhost:8080/"
        },
        "id": "uBEnYw-FkV9Z",
        "outputId": "3d2d0947-19b1-46a7-ab1e-d07f409c4960"
      },
      "execution_count": null,
      "outputs": [
        {
          "output_type": "stream",
          "name": "stdout",
          "text": [
            "Data splitting complete.\n",
            "Training set size: 5 samples\n",
            "Testing set size: 2 samples\n"
          ]
        }
      ]
    },
    {
      "cell_type": "markdown",
      "source": [
        "SVM Model"
      ],
      "metadata": {
        "id": "mKKxQJI4lf3W"
      }
    },
    {
      "cell_type": "code",
      "source": [
        "model = SVC(kernel='linear')\n",
        "\n",
        "print(\"Training SVM model...\")\n",
        "model.fit(X_train, y_train)\n",
        "\n",
        "print(\"SVM model training complete.\")"
      ],
      "metadata": {
        "colab": {
          "base_uri": "https://localhost:8080/"
        },
        "id": "m1xMFe3Rlck8",
        "outputId": "c155de3b-529d-40f2-d7d6-162c99bf283d"
      },
      "execution_count": null,
      "outputs": [
        {
          "output_type": "stream",
          "name": "stdout",
          "text": [
            "Training SVM model...\n",
            "SVM model training complete.\n"
          ]
        }
      ]
    },
    {
      "cell_type": "markdown",
      "source": [
        "Evaluating SVM Model"
      ],
      "metadata": {
        "id": "E3zfLgR4ltuW"
      }
    },
    {
      "cell_type": "code",
      "source": [
        "y_pred = model.predict(X_test)"
      ],
      "metadata": {
        "id": "7Vfv60l2lqM-"
      },
      "execution_count": null,
      "outputs": []
    },
    {
      "cell_type": "markdown",
      "source": [
        "Calculating Accuracy"
      ],
      "metadata": {
        "id": "I9sG7QuTlyN-"
      }
    },
    {
      "cell_type": "code",
      "source": [
        "accuracy = accuracy_score(y_test, y_pred)\n",
        "print(f\"Accuracy on the test set: {accuracy:.4f}\")"
      ],
      "metadata": {
        "colab": {
          "base_uri": "https://localhost:8080/"
        },
        "id": "a1p82PWtlxGD",
        "outputId": "1dfa3d71-6bf5-492f-8963-1725089435e9"
      },
      "execution_count": null,
      "outputs": [
        {
          "output_type": "stream",
          "name": "stdout",
          "text": [
            "Accuracy on the test set: 0.5000\n"
          ]
        }
      ]
    },
    {
      "cell_type": "markdown",
      "source": [
        "Classification Report"
      ],
      "metadata": {
        "id": "lgSw-aFXl5Lo"
      }
    },
    {
      "cell_type": "code",
      "source": [
        "print(\"\\nClassification Report:\")\n",
        "print(classification_report(y_test, y_pred))"
      ],
      "metadata": {
        "colab": {
          "base_uri": "https://localhost:8080/"
        },
        "id": "hb_FDbkAl3Tu",
        "outputId": "9fad13f8-89cd-4df2-d136-17610ce5080e"
      },
      "execution_count": null,
      "outputs": [
        {
          "output_type": "stream",
          "name": "stdout",
          "text": [
            "\n",
            "Classification Report:\n",
            "              precision    recall  f1-score   support\n",
            "\n",
            "           0       0.00      0.00      0.00         1\n",
            "           1       1.00      1.00      1.00         1\n",
            "           2       0.00      0.00      0.00         0\n",
            "\n",
            "    accuracy                           0.50         2\n",
            "   macro avg       0.33      0.33      0.33         2\n",
            "weighted avg       0.50      0.50      0.50         2\n",
            "\n"
          ]
        },
        {
          "output_type": "stream",
          "name": "stderr",
          "text": [
            "/usr/local/lib/python3.11/dist-packages/sklearn/metrics/_classification.py:1565: UndefinedMetricWarning: Precision is ill-defined and being set to 0.0 in labels with no predicted samples. Use `zero_division` parameter to control this behavior.\n",
            "  _warn_prf(average, modifier, f\"{metric.capitalize()} is\", len(result))\n",
            "/usr/local/lib/python3.11/dist-packages/sklearn/metrics/_classification.py:1565: UndefinedMetricWarning: Recall is ill-defined and being set to 0.0 in labels with no true samples. Use `zero_division` parameter to control this behavior.\n",
            "  _warn_prf(average, modifier, f\"{metric.capitalize()} is\", len(result))\n",
            "/usr/local/lib/python3.11/dist-packages/sklearn/metrics/_classification.py:1565: UndefinedMetricWarning: Precision is ill-defined and being set to 0.0 in labels with no predicted samples. Use `zero_division` parameter to control this behavior.\n",
            "  _warn_prf(average, modifier, f\"{metric.capitalize()} is\", len(result))\n",
            "/usr/local/lib/python3.11/dist-packages/sklearn/metrics/_classification.py:1565: UndefinedMetricWarning: Recall is ill-defined and being set to 0.0 in labels with no true samples. Use `zero_division` parameter to control this behavior.\n",
            "  _warn_prf(average, modifier, f\"{metric.capitalize()} is\", len(result))\n",
            "/usr/local/lib/python3.11/dist-packages/sklearn/metrics/_classification.py:1565: UndefinedMetricWarning: Precision is ill-defined and being set to 0.0 in labels with no predicted samples. Use `zero_division` parameter to control this behavior.\n",
            "  _warn_prf(average, modifier, f\"{metric.capitalize()} is\", len(result))\n",
            "/usr/local/lib/python3.11/dist-packages/sklearn/metrics/_classification.py:1565: UndefinedMetricWarning: Recall is ill-defined and being set to 0.0 in labels with no true samples. Use `zero_division` parameter to control this behavior.\n",
            "  _warn_prf(average, modifier, f\"{metric.capitalize()} is\", len(result))\n"
          ]
        }
      ]
    },
    {
      "cell_type": "markdown",
      "source": [
        "Confusion Matrix"
      ],
      "metadata": {
        "id": "7zuMB3Ail_vg"
      }
    },
    {
      "cell_type": "code",
      "source": [
        "print(\"\\nConfusion Matrix:\")\n",
        "print(confusion_matrix(y_test, y_pred))"
      ],
      "metadata": {
        "colab": {
          "base_uri": "https://localhost:8080/"
        },
        "id": "A0GS6Bqvl7tr",
        "outputId": "76ed2916-b0cd-4a3d-c001-cf5b61eb3e9c"
      },
      "execution_count": null,
      "outputs": [
        {
          "output_type": "stream",
          "name": "stdout",
          "text": [
            "\n",
            "Confusion Matrix:\n",
            "[[0 0 1]\n",
            " [0 1 0]\n",
            " [0 0 0]]\n"
          ]
        }
      ]
    },
    {
      "cell_type": "code",
      "source": [],
      "metadata": {
        "id": "ZQNvs808mB7W"
      },
      "execution_count": null,
      "outputs": []
    }
  ]
}